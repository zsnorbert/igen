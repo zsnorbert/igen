{
 "cells": [
  {
   "cell_type": "markdown",
   "metadata": {},
   "source": [
    "# Numerikus integrálás - A trapézmódszer"
   ]
  },
  {
   "cell_type": "markdown",
   "metadata": {},
   "source": [
    "### Lengyel Ferenc, Topa Lukács István"
   ]
  },
  {
   "cell_type": "markdown",
   "metadata": {},
   "source": [
    "A numerikus analízisben a határozott integrál meghatározására használják a trapézmódszert."
   ]
  },
  {
   "cell_type": "markdown",
   "metadata": {},
   "source": [
    "$$\\int_{a}^{b} f(x) dx$$"
   ]
  },
  {
   "cell_type": "markdown",
   "metadata": {},
   "source": [
    "Ez a módszer trapézokkal közelíti a függvény alatti terület nagyságát, de úgy is lehet rá tekinteni, mint a jobb- és baloldali Riemann összegek átlagára. Ez alapján a szabály a következőképpen írható fel nyílt alakban:"
   ]
  },
  {
   "cell_type": "markdown",
   "metadata": {},
   "source": [
    "$$\\int_{a}^{b} f(x) dx \\approx \\frac{\\Delta x}{2}(f(x_0)+2f(x_1)+2f(x_2)+2f(x_3)+2f(x_4)+...+2f(x_{n-1})+f(x_n))$$"
   ]
  },
  {
   "cell_type": "markdown",
   "metadata": {},
   "source": [
    "ahol $\\Delta x=\\frac{b-a}{n}$ és $x_i=a+i\\Delta x$."
   ]
  },
  {
   "cell_type": "markdown",
   "metadata": {},
   "source": [
    "Az integrál még jobban közelíthető az integrálandó tartomány felosztásával, majd a résztartományokon alkalmazott trapézmódszerekből származó értékek összegzésével. A gyakorlatban elggyakrabban erre a \"láncolt\" trapézmódszerre gondolnak, amikor a trapézmódszer segítségével történő integrálásról van szó. Legyen $\\{x_k\\}$ az $[a,b]$ tartomány egy tetszőleges finomságú felosztása úgy, hogy: $a=x_0<x_1<...<x_{N-1}<x_N=b$ és $\\Delta x_k$ a $k$-adik résztartomány hossza ($\\Delta x_k=x_k-x_{k-1}$). Ezek alapján:"
   ]
  },
  {
   "cell_type": "markdown",
   "metadata": {},
   "source": [
    "$$\\int_{a}^{b} f(x) dx \\approx \\sum_{k=1}^{N} \\frac{f(x_{k-1})+f(x_k)}{2} \\Delta x_k$$"
   ]
  },
  {
   "cell_type": "markdown",
   "metadata": {},
   "source": [
    "A közelítés pontosabb, ha a felbontás finomsága növekszik (tehát $N$ nő, míg $\\Delta x_k$ csökken). Ha a felbontás lépésközei azonosak, a formula leegyszerűsíthető a számítás hatékonysága érdekében."
   ]
  },
  {
   "cell_type": "markdown",
   "metadata": {},
   "source": [
    "A trapézmódszer alkalmazásakor természetesen van lehetőségünk a véges integrál ezen módszerrel történő becslésének hibaszámítására is."
   ]
  },
  {
   "cell_type": "markdown",
   "metadata": {},
   "source": [
    "## Gyakorlati végrehajtás"
   ]
  },
  {
   "cell_type": "markdown",
   "metadata": {},
   "source": [
    "#### Nem egységes felosztás"
   ]
  },
  {
   "cell_type": "markdown",
   "metadata": {},
   "source": [
    "Ha az integrálandó tartomány nem azonos hosszúságú szakaszokra van osztva, akkor csak a definícióra hagyatkozhatunk:"
   ]
  },
  {
   "cell_type": "markdown",
   "metadata": {},
   "source": [
    "$$ \\int_{a}^{b} f(x) dx \\approx \\sum_{k=1}^{N} \\frac{f(x_{k-1})+f(x_k)}{2} \\Delta x_k $$"
   ]
  },
  {
   "cell_type": "markdown",
   "metadata": {},
   "source": [
    "#### Egységes felosztás"
   ]
  },
  {
   "cell_type": "markdown",
   "metadata": {},
   "source": [
    "Egy olyan tartományom, mely $N$ egyenlő szakaszra van bontva, jelentős egyszerűsítéseket tehetünk. Legyen"
   ]
  },
  {
   "cell_type": "markdown",
   "metadata": {},
   "source": [
    "$$ \\Delta x_k=\\Delta x=\\frac{b-a}{N} $$"
   ]
  },
  {
   "cell_type": "markdown",
   "metadata": {},
   "source": [
    "ezáltal a közelítés az alábbiakra módosul"
   ]
  },
  {
   "cell_type": "markdown",
   "metadata": {},
   "source": [
    "$$ \\int_{a}^{b} f(x) dx \\approx \\frac{\\Delta x}{2} \\sum_{k=1}^{N} \\frac{f(x_{k-1})+f(x_k)}{2}= \\frac{\\Delta x}{2}\\Big(f(x_0)+2\\sum_{k=1}^{N-1} f(x_k)+f(x_N)\\Big)$$"
   ]
  },
  {
   "cell_type": "markdown",
   "metadata": {},
   "source": [
    "mely kevesebb kiértékelést igényel, így mi is ezt fogjuk Pythonban leprogramozni."
   ]
  },
  {
   "cell_type": "markdown",
   "metadata": {},
   "source": [
    "### A közelítés hibája\n",
    "A trapézokkal közelítő összegzés hibája az itegrál valós értéke és a numerikus eredmény különbsége:\n",
    "\n",
    "\\begin{equation}\n",
    "hiba=\\int_a^b{f(x)dx}-\\frac{b-a}{N}\\Bigg[ \\frac{f(a)-f(b)}{2}+\\sum_{k=1}^{N-1}{f\\Bigg(a+k\\frac{b-a}{N}\\Bigg)}\\Bigg]\n",
    "\\end{equation}\n",
    "\n",
    "Létezik egy $\\epsilon$ a és b között, amire\n",
    "\\begin{equation}\n",
    "hiba=-\\frac{(b-a)^3}{12N^2}f''(\\epsilon)\n",
    "\\end{equation}\n",
    "\n",
    "Ha az integrálandó függvény felfele konkáv (tehát a második derivált pozitív), akkor a hiba negatív, és a trapéz-közelítés nagyobb, mint a valós érték. Ezt szemléletesen látszik, ha ábrázoljuk a függyvényt, és berajzoljuk a trapézokat. Hasonlóan ehhez, ha a függvény lefele konkáv, akkor a hiba pozitív, vagyis a trapézmódszer kevesebbet ad. Ha a függvény az integrálás tartományán inflexiós pontot tartalmaz, akkor nehezebb meghatározni a hibát.\n",
    "\n",
    "Általános esetben három módon lehet meghatározni a hibát:\n",
    "\n",
    "1. Fourier-sorok\n",
    "2. Maradék-számítás\n",
    "3. Euler-Maclaurin összegképlet\n",
    "\n",
    "Egy aszimptotikus hibaközelítés, ha N$\\rightarrow\\infty$:\n",
    "\n",
    "\\begin{equation}\n",
    "hiba=-\\frac{(b-a)^3}{12N^2}[f'(b)-f'(a)]+O(N^{-3})\n",
    "\\end{equation}\n",
    "\n",
    "További közelítéseket a hibában az Euler-Maclaurin összegképlet ad. \n",
    "\n",
    "Vitatják, hogy a trapézösszeg konvergenciájának gyorsasága jellemezheti a számított függvény simaságát.\n"
   ]
  },
  {
   "cell_type": "markdown",
   "metadata": {},
   "source": [
    "## Példák"
   ]
  },
  {
   "cell_type": "markdown",
   "metadata": {},
   "source": [
    "Először nézzük a $e^{-x}$ függvényt -$\\pi$-től $\\pi$-ig."
   ]
  },
  {
   "cell_type": "code",
   "execution_count": 27,
   "metadata": {},
   "outputs": [
    {
     "data": {
      "image/png": "[encoded data removed]",
      "text/plain": [
       "<matplotlib.figure.Figure at 0x1a87db18a58>"
      ]
     },
     "metadata": {},
     "output_type": "display_data"
    }
   ],
   "source": [
    "import math\n",
    "import numpy as np\n",
    "import matplotlib.pyplot as plt\n",
    "x=np.linspace(-(math.pi), math.pi, 1000)\n",
    "y=(np.exp(-x)*np.sin(x))\n",
    "plt.plot(x,y)\n",
    "plt.xlabel('x')\n",
    "plt.ylabel('y')\n",
    "plt.show()"
   ]
  },
  {
   "cell_type": "markdown",
   "metadata": {},
   "source": [
    "Első körben osszuk három részre a tartományt."
   ]
  },
  {
   "cell_type": "code",
   "execution_count": 36,
   "metadata": {},
   "outputs": [
    {
     "name": "stdout",
     "output_type": "stream",
     "text": [
      "-4.532202323871135\n"
     ]
    }
   ],
   "source": [
    "import math\n",
    "import numpy as np\n",
    "import matplotlib.pyplot as plt\n",
    "\n",
    "#a határok és a felosztás\n",
    "a=-(math.pi)\n",
    "b=math.pi\n",
    "n=3\n",
    "\n",
    "#a függvény\n",
    "def f(hely):\n",
    "    ertek=math.exp(-hely)*math.sin(hely)\n",
    "    return ertek\n",
    "\n",
    "dx=(b-a)/n\n",
    "#az első és utolsó felvett érték\n",
    "s=(f(a))+(f(b))\n",
    "\n",
    "s2=0.0\n",
    "i=1\n",
    "#a szumma\n",
    "while i!=n:\n",
    "    s2=s2+2*(f(a+i*dx))\n",
    "    i=i+1\n",
    "s=s+s2\n",
    "s=s*(dx/2)\n",
    "#majd beszorozva az egész (dx/2)-vel\n",
    "\n",
    "print(s)"
   ]
  },
  {
   "cell_type": "markdown",
   "metadata": {},
   "source": [
    "Ez nagyon pontatlan. Osszuk 1000 részre és egyből jobb lesz."
   ]
  },
  {
   "cell_type": "code",
   "execution_count": 31,
   "metadata": {},
   "outputs": [
    {
     "name": "stdout",
     "output_type": "stream",
     "text": [
      "-11.548663369698549\n"
     ]
    }
   ],
   "source": [
    "import math\n",
    "import numpy as np\n",
    "import matplotlib.pyplot as plt\n",
    "a=-(math.pi)\n",
    "b=math.pi\n",
    "n=1000\n",
    "\n",
    "def f(hely):\n",
    "    ertek=math.exp(-hely)*math.sin(hely)\n",
    "    return ertek\n",
    "\n",
    "dx=(b-a)/n\n",
    "s=(f(a))+(f(b))\n",
    "\n",
    "s2=0.0\n",
    "i=1\n",
    "while i!=n:\n",
    "    s2=s2+2*(f(a+i*dx))\n",
    "    i=i+1\n",
    "s=s+s2\n",
    "s=s*(dx/2)\n",
    "print(s)\n"
   ]
  },
  {
   "cell_type": "markdown",
   "metadata": {
    "collapsed": true
   },
   "source": [
    "### MATLAB-os megoldás"
   ]
  },
  {
   "cell_type": "markdown",
   "metadata": {},
   "source": [
    "Képeken"
   ]
  },
  {
   "cell_type": "code",
   "execution_count": 9,
   "metadata": {},
   "outputs": [
    {
     "data": {
      "image/png": "[encoded data removed]",
      "text/plain": [
       "<IPython.core.display.Image object>"
      ]
     },
     "execution_count": 9,
     "metadata": {
      "image/png": {
       "width": 400
      }
     },
     "output_type": "execute_result"
    }
   ],
   "source": [
    "PATH = \"C:\\\\Users\\\\X\\\\Desktop\\\\\"\n",
    "Image(filename = PATH + \"matlab_script.PNG\", width=400)\n"
   ]
  },
  {
   "cell_type": "code",
   "execution_count": 33,
   "metadata": {},
   "outputs": [
    {
     "data": {
      "image/png": "[encoded data removed]",
      "text/plain": [
       "<IPython.core.display.Image object>"
      ]
     },
     "execution_count": 33,
     "metadata": {
      "image/png": {
       "width": 400
      }
     },
     "output_type": "execute_result"
    }
   ],
   "source": [
    "PATH = \"C:\\\\Users\\\\X\\\\Desktop\\\\\"\n",
    "Image(filename = PATH + \"exp_kep.png\", width=400)"
   ]
  },
  {
   "cell_type": "code",
   "execution_count": 35,
   "metadata": {},
   "outputs": [
    {
     "data": {
      "image/png": "[encoded data removed]",
      "text/plain": [
       "<IPython.core.display.Image object>"
      ]
     },
     "execution_count": 35,
     "metadata": {
      "image/png": {
       "width": 500
      }
     },
     "output_type": "execute_result"
    }
   ],
   "source": [
    "PATH = \"C:\\\\Users\\\\X\\\\Desktop\\\\\"\n",
    "Image(filename = PATH + \"exp_konzol.PNG\", width=500)"
   ]
  },
  {
   "cell_type": "code",
   "execution_count": null,
   "metadata": {
    "collapsed": true
   },
   "outputs": [],
   "source": []
  }
 ],
 "metadata": {
  "kernelspec": {
   "display_name": "Python 3",
   "language": "python",
   "name": "python3"
  },
  "language_info": {
   "codemirror_mode": {
    "name": "ipython",
    "version": 3
   },
   "file_extension": ".py",
   "mimetype": "text/x-python",
   "name": "python",
   "nbconvert_exporter": "python",
   "pygments_lexer": "ipython3",
   "version": "3.6.3"
  }
 },
 "nbformat": 4,
 "nbformat_minor": 2
}
